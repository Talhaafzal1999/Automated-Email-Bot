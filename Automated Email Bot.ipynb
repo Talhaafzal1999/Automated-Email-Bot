{
 "cells": [
  {
   "cell_type": "code",
   "execution_count": 7,
   "id": "d23fee40",
   "metadata": {},
   "outputs": [],
   "source": [
    "import pandas as pd"
   ]
  },
  {
   "cell_type": "code",
   "execution_count": 8,
   "id": "1b1bbd16",
   "metadata": {},
   "outputs": [],
   "source": [
    "e = pd.read_excel(\"/Users/talhaafzal/Downloads/emaillist.xlsx\")"
   ]
  },
  {
   "cell_type": "code",
   "execution_count": 9,
   "id": "b545e58a",
   "metadata": {},
   "outputs": [],
   "source": [
    "emails = e['Emails'].values"
   ]
  },
  {
   "cell_type": "code",
   "execution_count": 10,
   "id": "538ae1b1",
   "metadata": {},
   "outputs": [
    {
     "name": "stdout",
     "output_type": "stream",
     "text": [
      "                    Emails\n",
      "0  automailer951@gmail.com\n",
      "1    mariejowe87@gmail.com\n",
      "2     mtalhaafzal@live.com\n"
     ]
    }
   ],
   "source": [
    "print(e)"
   ]
  },
  {
   "cell_type": "code",
   "execution_count": 11,
   "id": "821c27cb",
   "metadata": {},
   "outputs": [
    {
     "name": "stdout",
     "output_type": "stream",
     "text": [
      "Requirement already satisfied: secure-smtplib in ./opt/anaconda3/lib/python3.8/site-packages (0.1.1)\n",
      "Note: you may need to restart the kernel to use updated packages.\n"
     ]
    }
   ],
   "source": [
    "pip install secure-smtplib"
   ]
  },
  {
   "cell_type": "code",
   "execution_count": 12,
   "id": "b65271c2",
   "metadata": {},
   "outputs": [],
   "source": [
    "import smtplib\n"
   ]
  },
  {
   "cell_type": "code",
   "execution_count": 13,
   "id": "4a9b43fd",
   "metadata": {},
   "outputs": [],
   "source": [
    "server = smtplib.SMTP('smtp.gmail.com', 587)\n"
   ]
  },
  {
   "cell_type": "code",
   "execution_count": 14,
   "id": "76b2443f",
   "metadata": {},
   "outputs": [
    {
     "data": {
      "text/plain": [
       "(220, b'2.0.0 Ready to start TLS')"
      ]
     },
     "execution_count": 14,
     "metadata": {},
     "output_type": "execute_result"
    }
   ],
   "source": [
    "server.starttls( )"
   ]
  },
  {
   "cell_type": "code",
   "execution_count": 15,
   "id": "6f29f13d",
   "metadata": {},
   "outputs": [
    {
     "data": {
      "text/plain": [
       "(235, b'2.7.0 Accepted')"
      ]
     },
     "execution_count": 15,
     "metadata": {},
     "output_type": "execute_result"
    }
   ],
   "source": [
    "server.login('automailer951@gmail.com','notautomailer951')\n"
   ]
  },
  {
   "cell_type": "code",
   "execution_count": 16,
   "id": "06103353",
   "metadata": {},
   "outputs": [],
   "source": [
    "for email in emails:\n",
    "    server.sendmail('automailer951@gmail.com',\n",
    "                'mariejowe87@gmail.com',\n",
    "                'This guy is not funny at all'\n",
    "               )\n"
   ]
  },
  {
   "cell_type": "code",
   "execution_count": null,
   "id": "c9b64584",
   "metadata": {},
   "outputs": [],
   "source": [
    "server.quit()"
   ]
  }
 ],
 "metadata": {
  "kernelspec": {
   "display_name": "Python 3",
   "language": "python",
   "name": "python3"
  },
  "language_info": {
   "codemirror_mode": {
    "name": "ipython",
    "version": 3
   },
   "file_extension": ".py",
   "mimetype": "text/x-python",
   "name": "python",
   "nbconvert_exporter": "python",
   "pygments_lexer": "ipython3",
   "version": "3.8.8"
  }
 },
 "nbformat": 4,
 "nbformat_minor": 5
}
